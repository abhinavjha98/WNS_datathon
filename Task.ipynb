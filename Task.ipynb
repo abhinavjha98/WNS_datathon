{
  "nbformat": 4,
  "nbformat_minor": 0,
  "metadata": {
    "colab": {
      "name": "Task.ipynb",
      "version": "0.3.2",
      "provenance": []
    },
    "kernelspec": {
      "name": "python3",
      "display_name": "Python 3"
    }
  },
  "cells": [
    {
      "cell_type": "code",
      "metadata": {
        "id": "7SQGJXFZ9uAd",
        "colab_type": "code",
        "colab": {
          "base_uri": "https://localhost:8080/",
          "height": 34
        },
        "outputId": "4037fe45-588b-47ee-b0cc-ec8232c135ec"
      },
      "source": [
        "from google.colab import drive\n",
        "drive.mount('/content/drive')"
      ],
      "execution_count": 1,
      "outputs": [
        {
          "output_type": "stream",
          "text": [
            "Drive already mounted at /content/drive; to attempt to forcibly remount, call drive.mount(\"/content/drive\", force_remount=True).\n"
          ],
          "name": "stdout"
        }
      ]
    },
    {
      "cell_type": "code",
      "metadata": {
        "id": "_eFHrRnD9u5Z",
        "colab_type": "code",
        "colab": {}
      },
      "source": [
        "import pandas as pd\n",
        "import numpy as np"
      ],
      "execution_count": 0,
      "outputs": []
    },
    {
      "cell_type": "code",
      "metadata": {
        "id": "RY412ERI91Y6",
        "colab_type": "code",
        "colab": {
          "base_uri": "https://localhost:8080/",
          "height": 632
        },
        "outputId": "402ab5ff-147d-4e6c-9099-5266aeb7bcf2"
      },
      "source": [
        "data = pd.read_csv(\"/content/drive/My Drive/AI_ML_DS/Preliminary/sample_email.csv\",encoding = \"ISO-8859-1\")\n",
        "data.head()"
      ],
      "execution_count": 3,
      "outputs": [
        {
          "output_type": "execute_result",
          "data": {
            "text/html": [
              "<div>\n",
              "<style scoped>\n",
              "    .dataframe tbody tr th:only-of-type {\n",
              "        vertical-align: middle;\n",
              "    }\n",
              "\n",
              "    .dataframe tbody tr th {\n",
              "        vertical-align: top;\n",
              "    }\n",
              "\n",
              "    .dataframe thead th {\n",
              "        text-align: right;\n",
              "    }\n",
              "</style>\n",
              "<table border=\"1\" class=\"dataframe\">\n",
              "  <thead>\n",
              "    <tr style=\"text-align: right;\">\n",
              "      <th></th>\n",
              "      <th>first_name</th>\n",
              "      <th>last_name</th>\n",
              "      <th>company_name</th>\n",
              "      <th>address</th>\n",
              "      <th>city</th>\n",
              "      <th>county</th>\n",
              "      <th>state</th>\n",
              "      <th>zip</th>\n",
              "      <th>phone1</th>\n",
              "      <th>phone</th>\n",
              "      <th>email</th>\n",
              "      <th>subject</th>\n",
              "      <th>Email Boby</th>\n",
              "    </tr>\n",
              "  </thead>\n",
              "  <tbody>\n",
              "    <tr>\n",
              "      <th>0</th>\n",
              "      <td>James</td>\n",
              "      <td>Butt</td>\n",
              "      <td>Benton, John B Jr</td>\n",
              "      <td>6649 N Blue Gum St</td>\n",
              "      <td>New Orleans</td>\n",
              "      <td>Orleans</td>\n",
              "      <td>LA</td>\n",
              "      <td>70116</td>\n",
              "      <td>504-621-8927</td>\n",
              "      <td>504-845-1427</td>\n",
              "      <td>jbutt@luminate.ai</td>\n",
              "      <td>When EMVX creation comes the message \"The crea...</td>\n",
              "      <td>I have a nearly unreadable font in my Warehous...</td>\n",
              "    </tr>\n",
              "    <tr>\n",
              "      <th>1</th>\n",
              "      <td>Josephine</td>\n",
              "      <td>Darakjy</td>\n",
              "      <td>Chanay, Jeffrey A Esq</td>\n",
              "      <td>4 B Blue Ridge Blvd</td>\n",
              "      <td>Brighton</td>\n",
              "      <td>Livingston</td>\n",
              "      <td>MI</td>\n",
              "      <td>48116</td>\n",
              "      <td>810-292-9388</td>\n",
              "      <td>810-374-9840</td>\n",
              "      <td>josephine_darakjy@luminate.ai</td>\n",
              "      <td>It falters when processing highly segmented p...</td>\n",
              "      <td>On Saturday the version WAREHOUSE Sales firstc...</td>\n",
              "    </tr>\n",
              "    <tr>\n",
              "      <th>2</th>\n",
              "      <td>Art</td>\n",
              "      <td>Venere</td>\n",
              "      <td>Chemel, James L Cpa</td>\n",
              "      <td>8 W Cerritos Ave #54</td>\n",
              "      <td>Bridgeport</td>\n",
              "      <td>Gloucester</td>\n",
              "      <td>NJ</td>\n",
              "      <td>8014</td>\n",
              "      <td>856-636-8749</td>\n",
              "      <td>856-264-4130</td>\n",
              "      <td>art@luminate.ai</td>\n",
              "      <td>Cwvemx files falter in Sales firstclass 20</td>\n",
              "      <td>In export mode, the font in the small preview ...</td>\n",
              "    </tr>\n",
              "    <tr>\n",
              "      <th>3</th>\n",
              "      <td>Lenna</td>\n",
              "      <td>Paprocki</td>\n",
              "      <td>Feltz Printing Service</td>\n",
              "      <td>639 Main St</td>\n",
              "      <td>Anchorage</td>\n",
              "      <td>Anchorage</td>\n",
              "      <td>AK</td>\n",
              "      <td>99501</td>\n",
              "      <td>907-385-4412</td>\n",
              "      <td>907-921-2010</td>\n",
              "      <td>lpaprocki@luminate.ai</td>\n",
              "      <td>When creating EM / EMVX with Windows 7, it ma...</td>\n",
              "      <td>On my specificationsheet, the text blocks are ...</td>\n",
              "    </tr>\n",
              "    <tr>\n",
              "      <th>4</th>\n",
              "      <td>Donette</td>\n",
              "      <td>Foller</td>\n",
              "      <td>Printing Dimensions</td>\n",
              "      <td>34 Center St</td>\n",
              "      <td>Hamilton</td>\n",
              "      <td>Butler</td>\n",
              "      <td>OH</td>\n",
              "      <td>45011</td>\n",
              "      <td>513-570-1893</td>\n",
              "      <td>513-549-4561</td>\n",
              "      <td>donette.foller@luminate.ai</td>\n",
              "      <td>Drivers for the USB Process Manager could not...</td>\n",
              "      <td>Since your update come strange bubbles on my s...</td>\n",
              "    </tr>\n",
              "  </tbody>\n",
              "</table>\n",
              "</div>"
            ],
            "text/plain": [
              "  first_name  ...                                         Email Boby\n",
              "0      James  ...  I have a nearly unreadable font in my Warehous...\n",
              "1  Josephine  ...  On Saturday the version WAREHOUSE Sales firstc...\n",
              "2        Art  ...  In export mode, the font in the small preview ...\n",
              "3      Lenna  ...  On my specificationsheet, the text blocks are ...\n",
              "4    Donette  ...  Since your update come strange bubbles on my s...\n",
              "\n",
              "[5 rows x 13 columns]"
            ]
          },
          "metadata": {
            "tags": []
          },
          "execution_count": 3
        }
      ]
    },
    {
      "cell_type": "code",
      "metadata": {
        "id": "IMTeYQeo96SD",
        "colab_type": "code",
        "colab": {}
      },
      "source": [
        ""
      ],
      "execution_count": 0,
      "outputs": []
    },
    {
      "cell_type": "markdown",
      "metadata": {
        "id": "OyROXwTZ9-S9",
        "colab_type": "text"
      },
      "source": [
        "Task1: Fetch the Detail like name, email, email Body, email subject and create email template for\n",
        "each individuals. \n",
        "Email template to be made.\n",
        "\n",
        "Email to: jbutt@luminate.ai\n",
        "\n",
        "Subject Line: When EMVX creation comes the message \"The creation was cancelled for hardware reasons\".\n",
        "\n",
        "Hi James Butt,\n",
        "\n",
        "I have a nearly unreadable font in my Warehouse Software under Export-File Options for 2 days. Please do contact me at 504-621-8927 .\n",
        "\n",
        "Thanks,\n",
        "\n",
        "Rob Willison."
      ]
    },
    {
      "cell_type": "code",
      "metadata": {
        "id": "jNSK3qVB-HvJ",
        "colab_type": "code",
        "colab": {}
      },
      "source": [
        "def email_template(email_id,subject,first_name,last_name,message,phone):\n",
        "  print(\"Email to: \"+email_id)\n",
        "  print(\"Subject Line: \"+subject)\n",
        "  print(\"Hi \"+first_name+\" \"+last_name+\",\")\n",
        "  print(message+\" Please do contact me at \"+phone)\n",
        "  print(\"Thanks\")\n",
        "  print()"
      ],
      "execution_count": 0,
      "outputs": []
    },
    {
      "cell_type": "code",
      "metadata": {
        "id": "CphK4uV0-Lry",
        "colab_type": "code",
        "colab": {
          "base_uri": "https://localhost:8080/",
          "height": 1000
        },
        "outputId": "0a642cfa-9bab-4842-a415-766c7b2ce79c"
      },
      "source": [
        "for i in data.index:\n",
        "  email_id = data.get_value(i,'email')\n",
        "  subject = data.get_value(i,'subject')\n",
        "  first_name = data.get_value(i,'first_name')\n",
        "  last_name = data.get_value(i,'last_name')\n",
        "  message = data.get_value(i,'Email Boby')\n",
        "  phone = data.get_value(i,'phone1')\n",
        "  email_template(email_id,subject,first_name,last_name,message,phone)"
      ],
      "execution_count": 5,
      "outputs": [
        {
          "output_type": "stream",
          "text": [
            "Email to: jbutt@luminate.ai\n",
            "Subject Line: When EMVX creation comes the message \"The creation was canceled for hardware reasons\".\n",
            "Hi James Butt,\n",
            "I have a nearly unreadable font in my Warehouse Software under Export-File Options for 2 days.Please do contact me at 504-621-8927 Please do contact me at 504-621-8927\n",
            "Thanks\n",
            "\n",
            "Email to: josephine_darakjy@luminate.ai\n",
            "Subject Line:  It falters when processing highly segmented process files.\n",
            "Hi Josephine Darakjy,\n",
            "On Saturday the version WAREHOUSE Sales firstclass 20 Neo got, after installation it had to be found, that the label of the buttons in the export screen are not readable (eg file format, navigation, compression, font, sorting, etc. the complete caption under File options, Design title page and Design buttons. Please do contact me at 810-292-9388\n",
            "Thanks\n",
            "\n",
            "Email to: art@luminate.ai\n",
            "Subject Line:  Cwvemx files falter in Sales firstclass 20\n",
            "Hi Art Venere,\n",
            "In export mode, the font in the small preview window in the filemenu is always the same as the font in the header line of the submenu. Please do contact me at 856-636-8749\n",
            "Thanks\n",
            "\n",
            "Email to: lpaprocki@luminate.ai\n",
            "Subject Line:  When creating EM / EMVX with Windows 7, it may sometimes be necessary to install an alternative driver for Ethernet card in the device manager.\n",
            "Hi Lenna Paprocki,\n",
            "On my specificationsheet, the text blocks are only displayed as a speech bubble, today I would have had an online presentation of my specification sheet to win a sponsor. Please do contact me at 907-385-4412\n",
            "Thanks\n",
            "\n",
            "Email to: donette.foller@luminate.ai\n",
            "Subject Line:  Drivers for the USB Process Manager could not be properly installed\n",
            "Hi Donette Foller,\n",
            "Since your update come strange bubbles on my sheet to light, but I did not make it! Please do contact me at 513-570-1893\n",
            "Thanks\n",
            "\n",
            "Email to: simona@luminate.ai\n",
            "Subject Line:  EM card reader can not be detected via USB port\n",
            "Hi Simona Morasca,\n",
            "on my detailsheet http://www.rhein-main-versand.de since yesterday evening some Calibri texts are replaced by blue speech bubbles (?!), i.a. also the imprint Please do contact me at 419-503-2484\n",
            "Thanks\n",
            "\n",
            "Email to: mitsue_tollner@luminate.ai\n",
            "Subject Line:  When opening the program the error message \"the smartcard device ...\" appears.\n",
            "Hi Mitsue Tollner,\n",
            "Unfortunately I can not manage my collections from today. There is nothing more when selecting the corresponding button. Please do contact me at 773-573-6914\n",
            "Thanks\n",
            "\n",
            "Email to: leota@luminate.ai\n",
            "Subject Line:  When you install the Process Manager driver, you receive the error message \"1133: Unable to finish installation.\"\n",
            "Hi Leota Dilliard,\n",
            "Nevertheless, the online collection opens in a new window, which only reaches half the screen size. D.H., it must be brought to full screen size by hand. Please do contact me at 408-752-3500\n",
            "Thanks\n",
            "\n",
            "Email to: sage_wieser@luminate.ai\n",
            "Subject Line:  In the profit calculation, the following message appears after entering a period of time: \"Error while parsing the XSL data\"\n",
            "Hi Sage Wieser,\n",
            "I would like to use the studio version, but I can not exchange the preview images, even though they were deleted in the online organizer - i. E. I have changed the order of the products or deleted products so that the preview always shows the first product, but nothing happens.Reach out me at (541) 754-3010 Please do contact me at 605-414-2147\n",
            "Thanks\n",
            "\n",
            "Email to: kris@luminate.ai\n",
            "Subject Line:  The burning stops with the message \"Internal problem\".\n",
            "Hi Kris Marrier,\n",
            "Suddenly, data was no longer loaded or only the charging process (circling points) was displayed, texts shifted. Please do contact me at 410-655-8723\n",
            "Thanks\n",
            "\n",
            "Email to: minna_amigon@luminate.ai\n",
            "Subject Line:  Error code -9 when starting the program\n",
            "Hi Minna Amigon,\n",
            "At irregular intervals certain products disappear from the article preview. Please do contact me at 215-874-1229\n",
            "Thanks\n",
            "\n",
            "Email to: amaclead@luminate.ai\n",
            "Subject Line:  Error 9000 during program installation\n",
            "Hi Abel Maclead,\n",
            "If I want to upload data, statistics or processes under \"Own product range\" and create a new folder, then when I click on the tool, only the selection opens Please do contact me at 631-335-3414\n",
            "Thanks\n",
            "\n",
            "Email to: kiley.caldarera@luminate.ai\n",
            "Subject Line:  Program does not start. Ends at program interface will be set up.\n",
            "Hi Kiley Caldarera,\n",
            "I no longer have access to the product pallet center. Can not upload any more products. Please do contact me at 310-498-5651\n",
            "Thanks\n",
            "\n",
            "Email to: gruta@luminate.ai\n",
            "Subject Line:  Error when importing workit PRC files. Type can not be opened.\n",
            "Hi Graciela Ruta,\n",
            "If you select the product presentation version in the table presentation, then select Dynamicolisting or Popup when linking, Iso crashes (a script slows Iso 13. Should the script still be executed? ... or something like that). Then it does not matter if you press yes or no, because it comes to the crash: \"The Iso addon crashed\". email me at asergi[at]apple.com Please do contact me at 440-780-8425\n",
            "Thanks\n",
            "\n",
            "Email to: calbares@luminate.ai\n",
            "Subject Line:  Memory request invalid when importing data or processes into WAREHOUSE products in the IT & OFFICE catalog and Salesfirstclass, problem can also occur during encryption or editing.\n",
            "Hi Cammy Albares,\n",
            "After your last update, my product specification sheet will show both product representation (moving and enlarging products) and product presentation (data will not be displayed in a new \"Total and Partial View\" window after selection). opened. Please do contact me at 956-537-6195\n",
            "Thanks\n",
            "\n",
            "Email to: mattie@luminate.ai\n",
            "Subject Line:  Codec to import this file could not be found.\n",
            "Hi Mattie Poquette,\n",
            "my maximum activation has been reached Please do contact me at 602-277-4385\n",
            "Thanks\n",
            "\n",
            "Email to: meaghan@luminate.ai\n",
            "Subject Line:  Encryption aborts with the message \"Encrypt failed\".\n",
            "Hi Meaghan Garufi,\n",
            "If you drag in the version 13 data and processes that were read in with the same card reader by mouse into the scheduling view, the process files either do not appear at all or without the order number fields that were imported with the data. Please do contact me at 931-313-9635\n",
            "Thanks\n",
            "\n",
            "Email to: gladys.rim@luminate.ai\n",
            "Subject Line:  Order number error when calculating DT5 files from Tiffey Blast Workstation.\n",
            "Hi Gladys Rim,\n",
            "It is possible to load the general data, but not the order numbers created with it, s. o.! Please do contact me at 414-661-9598\n",
            "Thanks\n",
            "\n",
            "Email to: yuki_whobrey@luminate.ai\n",
            "Subject Line:  The import of process files takes place without order number.\n",
            "Hi Yuki Whobrey,\n",
            "crv import without order number Please do contact me at 313-288-7937\n",
            "Thanks\n",
            "\n",
            "Email to: fletcher.flosi@luminate.ai\n",
            "Subject Line:  No order numbers during card reader transfer / no connection to the hardware\n",
            "Hi Fletcher Flosi,\n",
            "Order number is missing from the files after import.mail me at asergi[at]yahoo.com Please do contact me at 815-828-2147\n",
            "Thanks\n",
            "\n",
            "Email to: bette_nicka@luminate.ai\n",
            "Subject Line:  Data and order number of a DATA file are not synchronous.\n",
            "Hi Bette Nicka,\n",
            "Under Paymentreader the whole project is watching, only at the dropout no order number anymore. Please do contact me at 610-545-3615\n",
            "Thanks\n",
            "\n",
            "Email to: vinouye@luminate.ai\n",
            "Subject Line:  Old program should be installed under Windows 7.\n",
            "Hi Veronika Inouye,\n",
            "The order numbers of the xls file are there the whole time and as soon as the actual procedure is opened all order numbers are gone. Please do contact me at 408-540-1785\n",
            "Thanks\n",
            "\n",
            "Email to: willard@luminate.ai\n",
            "Subject Line:  Errors in the product data memory\n",
            "Hi Willard Kolmetz,\n",
            "If I then want to pull down the new process (example: Gelsenkirchen-Projekt2.dat) in overview mode with the mouse, to attach it to the first process, I only get the line 1 (data), which is line 2 (order numbers) disappeared. Please do contact me at 972-303-9197\n",
            "Thanks\n",
            "\n",
            "Email to: mroyster@luminate.ai\n",
            "Subject Line:  When installing one of our programs, the error message \"An error occurred while converting your product data store\" appears\n",
            "Hi Maryann Royster,\n",
            "Unfortunately I can not import CASH-builds into the DAT-procedure without any problem. The order-number line remains empty (ZD recordings work). Reach out me at calbares@gmail.com Please do contact me at 518-966-7987\n",
            "Thanks\n",
            "\n",
            "Email to: alisha@luminate.ai\n",
            "Subject Line:  The fonts in the Export interface are not readable or have a different font that does not match the original design\n",
            "Hi Alisha Slusarski,\n",
            "If I now import a process file in complete EMC format from the USB stick (card reader configuration: Psk / 80MB / 81Seg / 26Bpd / File_Type .crv), I see the order number in the warehouse program, but I do not see any data. Please do contact me at 732-658-3154\n",
            "Thanks\n",
            "\n",
            "Email to: allene_iturbide@luminate.ai\n",
            "Subject Line:  Temporary display problems with Specssheet Creator or Online Collection\n",
            "Hi Allene Iturbide,\n",
            "Under the new version 14, it is not possible to assign a purchase order number to sales objects (\"normal\" XLS statistics in the separate order number line o.k. and under version 12 also the process order numbers can be seen) Please do contact me at 715-662-6764\n",
            "Thanks\n",
            "\n",
            "Email to: chanel.caudy@luminate.ai\n",
            "Subject Line:  The product manager 12 reports that the demo phase has expired or is only running for a few days, although the program should be usable indefinitely.\n",
            "Hi Chanel Caudy,\n",
            "This basically works, but it comes the process only without order number; So the order number is lost during the operation. Please do contact me at 913-388-2079\n",
            "Thanks\n",
            "\n",
            "Email to: ezekiel@luminate.ai\n",
            "Subject Line:  Constant request to enter the registration data.\n",
            "Hi Ezekiel Chui,\n",
            "However, if I put the display arrow on, there is no article order number. Please do contact me at 410-669-1642\n",
            "Thanks\n",
            "\n",
            "Email to: wkusko@luminate.ai\n",
            "Subject Line:  Problem with the installation or activation (problems with the input of the serial number) of the additional programs of XtraGood etc.\n",
            "Hi Willow Kusko,\n",
            "Now, however, when I reopened the project and made minor edits, there are no more order numbers. Please do contact me at 212-582-4976\n",
            "Thanks\n",
            "\n",
            "Email to: bfigeroa@luminate.ai\n",
            "Subject Line:  The product is not registered. Error code -4\n",
            "Hi Bernardo Figeroa,\n",
            "There is no order number in SFC.Call me at 123-456-7890 Please do contact me at 936-336-3951\n",
            "Thanks\n",
            "\n",
            "Email to: ammie@luminate.ai\n",
            "Subject Line:  Error code -27 appears when registering\n",
            "Hi Ammie Corrio,\n",
            "When copying DATA3 films, the order number line is missing or no order number can be seen. Please do contact me at 614-801-9788\n",
            "Thanks\n",
            "\n",
            "Email to: francine_vocelka@luminate.ai\n",
            "Subject Line:  If the \"DynamicListing\" function is activated in the Specssheetcreator, the message \"Isotool stops responding\" appears\n",
            "Hi Francine Vocelka,\n",
            "Now, while I can call Warehouse Sales 2008/2009 my process for further processing, but see no order numbers. Please do contact me at 505-977-3911\n",
            "Thanks\n",
            "\n",
            "Email to: ernie_stenseth@luminate.ai\n",
            "Subject Line:  DVD player can not play the created DVD.\n",
            "Hi Ernie Stenseth,\n",
            "after the last update, the order number is not included in a project, here the \"pull over\" of a process file (dat) in overview mode. Please do contact me at 201-709-6245\n",
            "Thanks\n",
            "\n",
            "Email to: albina@luminate.ai\n",
            "Subject Line:  \"Internal error\" during export or preview of the data sheet.\n",
            "Hi Albina Glick,\n",
            "have since yesterday Sales Firstclass 19 Special Edition installed-registered and then I have imported the sales files from the memory card and when viewing the process, simply no order number comes. Please do contact me at 732-924-7882\n",
            "Thanks\n",
            "\n",
            "Email to: asergi@luminate.ai\n",
            "Subject Line:  PDF export does not work.\n",
            "Hi Alishia Sergi,\n",
            "Then next came \"burning\" after some time came the message \"Troubleshooting\" X problem in class \"wmembank.dll\" (load address: 0x8e 534678) to address 6x8e80fcre Exception Oxc82562 \"ACCESS_FORBIDDEN\". Please do contact me at 212-860-1579\n",
            "Thanks\n",
            "\n",
            "Email to: solange@luminate.ai\n",
            "Subject Line:  When previewing the page or when exporting the data sheet in Specsmanager, the error message \"insufficient memory\" appears.\n",
            "Hi Solange Shinko,\n",
            "During the last burning attempt, however, the following error message came: Problem in class \"wmembank.dll\" (search address: Ox83708447) at address 6x8e80fcre Please do contact me at 504-979-9175\n",
            "Thanks\n",
            "\n",
            "Email to: jose@luminate.ai\n",
            "Subject Line:  There is no burner found.\n",
            "Hi Jose Stockham,\n",
            "In all cases there was a crash when creating the disk image file! Please do contact me at 212-675-8570\n",
            "Thanks\n",
            "\n",
            "Email to: rozella.ostrosky@luminate.ai\n",
            "Subject Line:  Various error messages when using the online collection (both when logging in, uploading media, etc.)\n",
            "Hi Rozella Ostrosky,\n",
            "I can not move the text input fields when creating the control bar image (in the burn area). Also, I do not see the entered text (whether set to black, 3.30 or 70%). Please do contact me at 805-832-6163\n",
            "Thanks\n",
            "\n",
            "Email to: valentine_gillian@luminate.ai\n",
            "Subject Line:  AutoSortSD functions are out of the visible screen area\n",
            "Hi Valentine Gillian,\n",
            "After a couple of times the DVD's are properly burned, the following error message will appear after some time: Problem in class \"wmembank.dll\" (search address: Ox28111570) at address 6x8e80fcre Please do contact me at 210-812-9597\n",
            "Thanks\n",
            "\n",
            "Email to: kati.rulapaugh@luminate.ai\n",
            "Subject Line:  Customers want to install Warehouse programs on the MAC\n",
            "Hi Kati Rulapaugh,\n",
            "I've tried several times to burn my product review on the disc image every time. Problem in class \"wmembank.dll\" (load address: 7X0f4d0124) at address Ox6ffcre Exception 6Xd3382563 ACCESS_FORBIDDEN. Please do contact me at 785-463-7829\n",
            "Thanks\n",
            "\n",
            "Email to: youlanda@luminate.ai\n",
            "Subject Line:  Start pointer always shows from the beginning\n",
            "Hi Youlanda Schemmer,\n",
            "I get after 8 hours of encryption an error message regarding \"wmembank.dll\" and must end the program. Please do contact me at 541-548-8197\n",
            "Thanks\n",
            "\n",
            "Email to: doldroyd@luminate.ai\n",
            "Subject Line:  Drivers for the USB Process Manager could not be properly installed\n",
            "Hi Dyan Oldroyd,\n",
            "- When burning a product preview with products in the IT & OFFICE catalog 12 & 13 The error message appears at step 7 of 9 - Disc Copy is generated. Call me at +1 (123) 456-7890 Please do contact me at 913-413-4604\n",
            "Thanks\n",
            "\n",
            "Email to: roxane@luminate.ai\n",
            "Subject Line:  EM card reader can not be detected via USB port\n",
            "Hi Roxane Campain,\n",
            "When burning again, the error message is always: wmem reports disc project build exception: 118764f4 Please do contact me at 907-231-4722\n",
            "Thanks\n",
            "\n",
            "Email to: lperin@luminate.ai\n",
            "Subject Line:  When opening the program the error message \"the smartcard device ...\" appears.\n",
            "Hi Lavera Perin,\n",
            "When burning the program reports the following error message when encrypting. wmem reports disk project puild exception 411451v4 Please do contact me at 305-606-7291\n",
            "Thanks\n",
            "\n",
            "Email to: erick.ferencz@luminate.ai\n",
            "Subject Line:  When you install the Process Manager driver, you receive the error message \"1133: Unable to finish installation.\"\n",
            "Hi Erick Ferencz,\n",
            "!!! MBK exception in CopyWorkspace: 13 - process failed !!! Please do contact me at 907-741-1044\n",
            "Thanks\n",
            "\n",
            "Email to: fsaylors@luminate.ai\n",
            "Subject Line:  In the profit calculation, the following message appears after entering a period of time: \"Error while parsing the XSL data\"\n",
            "Hi Fatima Saylors,\n",
            "Burning aborted with the following error: Encrypt failed.email me at asergi [at] gmail.com Please do contact me at 952-768-2416\n",
            "Thanks\n",
            "\n",
            "Email to: jina_briddick@luminate.ai\n",
            "Subject Line:  The burning stops with the message \"Internal problem\".\n",
            "Hi Jina Briddick,\n",
            "Burning aborted with the following error: Encrypt failed. Please do contact me at 617-399-5124\n",
            "Thanks\n",
            "\n",
            "Email to: kanisha_waycott@luminate.ai\n",
            "Subject Line:  Error code -9 when starting the program\n",
            "Hi Kanisha Waycott,\n",
            "The burning was aborted with the following error: Encrypt failed. Please do contact me at 323-453-2780\n",
            "Thanks\n",
            "\n",
            "Email to: emerson.bowley@luminate.ai\n",
            "Subject Line:  Error 9000 during program installation\n",
            "Hi Emerson Bowley,\n",
            "I tried my product review with 330 files to burn. An error message appeared: wmem reports disc project build exception 86661f3 failed to encrypt the process. Please do contact me at 608-336-7444\n",
            "Thanks\n",
            "\n"
          ],
          "name": "stdout"
        },
        {
          "output_type": "stream",
          "text": [
            "/usr/local/lib/python3.6/dist-packages/ipykernel_launcher.py:2: FutureWarning: get_value is deprecated and will be removed in a future release. Please use .at[] or .iat[] accessors instead\n",
            "  \n",
            "/usr/local/lib/python3.6/dist-packages/ipykernel_launcher.py:3: FutureWarning: get_value is deprecated and will be removed in a future release. Please use .at[] or .iat[] accessors instead\n",
            "  This is separate from the ipykernel package so we can avoid doing imports until\n",
            "/usr/local/lib/python3.6/dist-packages/ipykernel_launcher.py:4: FutureWarning: get_value is deprecated and will be removed in a future release. Please use .at[] or .iat[] accessors instead\n",
            "  after removing the cwd from sys.path.\n",
            "/usr/local/lib/python3.6/dist-packages/ipykernel_launcher.py:5: FutureWarning: get_value is deprecated and will be removed in a future release. Please use .at[] or .iat[] accessors instead\n",
            "  \"\"\"\n",
            "/usr/local/lib/python3.6/dist-packages/ipykernel_launcher.py:6: FutureWarning: get_value is deprecated and will be removed in a future release. Please use .at[] or .iat[] accessors instead\n",
            "  \n",
            "/usr/local/lib/python3.6/dist-packages/ipykernel_launcher.py:7: FutureWarning: get_value is deprecated and will be removed in a future release. Please use .at[] or .iat[] accessors instead\n",
            "  import sys\n"
          ],
          "name": "stderr"
        }
      ]
    },
    {
      "cell_type": "code",
      "metadata": {
        "id": "4QsfQiSN-xta",
        "colab_type": "code",
        "colab": {}
      },
      "source": [
        ""
      ],
      "execution_count": 0,
      "outputs": []
    },
    {
      "cell_type": "markdown",
      "metadata": {
        "id": "nsUEEG5u-1kq",
        "colab_type": "text"
      },
      "source": [
        "Task 2: Check and fetch email address from the email body section if any present and store it in\n",
        "another csv. "
      ]
    },
    {
      "cell_type": "markdown",
      "metadata": {
        "id": "jtKXiBL0DTVs",
        "colab_type": "text"
      },
      "source": [
        "Creating a csv with column name email and after checking it will append the answers in new csv."
      ]
    },
    {
      "cell_type": "code",
      "metadata": {
        "id": "lXAw8bfC-8Kc",
        "colab_type": "code",
        "colab": {}
      },
      "source": [
        "import csv\n",
        "email = [['email']]\n",
        "with open('email.csv','a') as csvFile:\n",
        "    writer = csv.writer(csvFile)\n",
        "    writer.writerows(email)"
      ],
      "execution_count": 0,
      "outputs": []
    },
    {
      "cell_type": "code",
      "metadata": {
        "id": "EwY0atyP_HJp",
        "colab_type": "code",
        "colab": {
          "base_uri": "https://localhost:8080/",
          "height": 49
        },
        "outputId": "e51b275f-94ab-4b74-a00e-d80232816e97"
      },
      "source": [
        "em = pd.read_csv(\"email.csv\")\n",
        "em.head()"
      ],
      "execution_count": 68,
      "outputs": [
        {
          "output_type": "execute_result",
          "data": {
            "text/html": [
              "<div>\n",
              "<style scoped>\n",
              "    .dataframe tbody tr th:only-of-type {\n",
              "        vertical-align: middle;\n",
              "    }\n",
              "\n",
              "    .dataframe tbody tr th {\n",
              "        vertical-align: top;\n",
              "    }\n",
              "\n",
              "    .dataframe thead th {\n",
              "        text-align: right;\n",
              "    }\n",
              "</style>\n",
              "<table border=\"1\" class=\"dataframe\">\n",
              "  <thead>\n",
              "    <tr style=\"text-align: right;\">\n",
              "      <th></th>\n",
              "      <th>email</th>\n",
              "    </tr>\n",
              "  </thead>\n",
              "  <tbody>\n",
              "  </tbody>\n",
              "</table>\n",
              "</div>"
            ],
            "text/plain": [
              "Empty DataFrame\n",
              "Columns: [email]\n",
              "Index: []"
            ]
          },
          "metadata": {
            "tags": []
          },
          "execution_count": 68
        }
      ]
    },
    {
      "cell_type": "code",
      "metadata": {
        "id": "-RvPi2YN_K30",
        "colab_type": "code",
        "colab": {}
      },
      "source": [
        "def check_email(email_id):\n",
        "  for i in data.index:\n",
        "    email = data.get_value(i,'email')\n",
        "    if email_id == email:\n",
        "      row=[email_id]\n",
        "      with open('email.csv','a') as csvFile:\n",
        "        writer = csv.writer(csvFile)\n",
        "        writer.writerow(row)"
      ],
      "execution_count": 0,
      "outputs": []
    },
    {
      "cell_type": "code",
      "metadata": {
        "id": "tBPJvKzn_o_z",
        "colab_type": "code",
        "colab": {
          "base_uri": "https://localhost:8080/",
          "height": 71
        },
        "outputId": "4ca76ee3-50e7-4dad-b067-276f47b91cc7"
      },
      "source": [
        "check_email(\"doldroyd@luminate.ai\")"
      ],
      "execution_count": 70,
      "outputs": [
        {
          "output_type": "stream",
          "text": [
            "/usr/local/lib/python3.6/dist-packages/ipykernel_launcher.py:3: FutureWarning: get_value is deprecated and will be removed in a future release. Please use .at[] or .iat[] accessors instead\n",
            "  This is separate from the ipykernel package so we can avoid doing imports until\n"
          ],
          "name": "stderr"
        }
      ]
    },
    {
      "cell_type": "code",
      "metadata": {
        "id": "krSzaeFr_-7E",
        "colab_type": "code",
        "colab": {
          "base_uri": "https://localhost:8080/",
          "height": 80
        },
        "outputId": "3552c35f-8fc2-4f88-c4b3-4dfb94651d2a"
      },
      "source": [
        "em = pd.read_csv(\"email.csv\")\n",
        "em.head()"
      ],
      "execution_count": 71,
      "outputs": [
        {
          "output_type": "execute_result",
          "data": {
            "text/html": [
              "<div>\n",
              "<style scoped>\n",
              "    .dataframe tbody tr th:only-of-type {\n",
              "        vertical-align: middle;\n",
              "    }\n",
              "\n",
              "    .dataframe tbody tr th {\n",
              "        vertical-align: top;\n",
              "    }\n",
              "\n",
              "    .dataframe thead th {\n",
              "        text-align: right;\n",
              "    }\n",
              "</style>\n",
              "<table border=\"1\" class=\"dataframe\">\n",
              "  <thead>\n",
              "    <tr style=\"text-align: right;\">\n",
              "      <th></th>\n",
              "      <th>email</th>\n",
              "    </tr>\n",
              "  </thead>\n",
              "  <tbody>\n",
              "    <tr>\n",
              "      <th>0</th>\n",
              "      <td>doldroyd@luminate.ai</td>\n",
              "    </tr>\n",
              "  </tbody>\n",
              "</table>\n",
              "</div>"
            ],
            "text/plain": [
              "                  email\n",
              "0  doldroyd@luminate.ai"
            ]
          },
          "metadata": {
            "tags": []
          },
          "execution_count": 71
        }
      ]
    },
    {
      "cell_type": "code",
      "metadata": {
        "id": "hNZX15HBBJDJ",
        "colab_type": "code",
        "colab": {
          "base_uri": "https://localhost:8080/",
          "height": 71
        },
        "outputId": "a2bc72f4-4158-4b70-da24-11b278bc6893"
      },
      "source": [
        "check_email(\"roxane@luminate.ai\")"
      ],
      "execution_count": 72,
      "outputs": [
        {
          "output_type": "stream",
          "text": [
            "/usr/local/lib/python3.6/dist-packages/ipykernel_launcher.py:3: FutureWarning: get_value is deprecated and will be removed in a future release. Please use .at[] or .iat[] accessors instead\n",
            "  This is separate from the ipykernel package so we can avoid doing imports until\n"
          ],
          "name": "stderr"
        }
      ]
    },
    {
      "cell_type": "code",
      "metadata": {
        "id": "CfIKFETMBOrC",
        "colab_type": "code",
        "colab": {
          "base_uri": "https://localhost:8080/",
          "height": 111
        },
        "outputId": "251b408d-39ae-4f29-c4b9-928e4184757a"
      },
      "source": [
        "em = pd.read_csv(\"email.csv\")\n",
        "em.head()"
      ],
      "execution_count": 73,
      "outputs": [
        {
          "output_type": "execute_result",
          "data": {
            "text/html": [
              "<div>\n",
              "<style scoped>\n",
              "    .dataframe tbody tr th:only-of-type {\n",
              "        vertical-align: middle;\n",
              "    }\n",
              "\n",
              "    .dataframe tbody tr th {\n",
              "        vertical-align: top;\n",
              "    }\n",
              "\n",
              "    .dataframe thead th {\n",
              "        text-align: right;\n",
              "    }\n",
              "</style>\n",
              "<table border=\"1\" class=\"dataframe\">\n",
              "  <thead>\n",
              "    <tr style=\"text-align: right;\">\n",
              "      <th></th>\n",
              "      <th>email</th>\n",
              "    </tr>\n",
              "  </thead>\n",
              "  <tbody>\n",
              "    <tr>\n",
              "      <th>0</th>\n",
              "      <td>doldroyd@luminate.ai</td>\n",
              "    </tr>\n",
              "    <tr>\n",
              "      <th>1</th>\n",
              "      <td>roxane@luminate.ai</td>\n",
              "    </tr>\n",
              "  </tbody>\n",
              "</table>\n",
              "</div>"
            ],
            "text/plain": [
              "                  email\n",
              "0  doldroyd@luminate.ai\n",
              "1    roxane@luminate.ai"
            ]
          },
          "metadata": {
            "tags": []
          },
          "execution_count": 73
        }
      ]
    },
    {
      "cell_type": "code",
      "metadata": {
        "id": "jPbrASn8DiEy",
        "colab_type": "code",
        "colab": {
          "base_uri": "https://localhost:8080/",
          "height": 71
        },
        "outputId": "8f820142-b4e6-44e3-abae-b65810dc4ee8"
      },
      "source": [
        "check_email(\"abc@gmail.com\")"
      ],
      "execution_count": 81,
      "outputs": [
        {
          "output_type": "stream",
          "text": [
            "/usr/local/lib/python3.6/dist-packages/ipykernel_launcher.py:3: FutureWarning: get_value is deprecated and will be removed in a future release. Please use .at[] or .iat[] accessors instead\n",
            "  This is separate from the ipykernel package so we can avoid doing imports until\n"
          ],
          "name": "stderr"
        }
      ]
    },
    {
      "cell_type": "markdown",
      "metadata": {
        "id": "dX08uJcgDqFX",
        "colab_type": "text"
      },
      "source": [
        "This email will not be appended as it is not in csv file."
      ]
    },
    {
      "cell_type": "code",
      "metadata": {
        "id": "_rMgIS3xDnb4",
        "colab_type": "code",
        "colab": {
          "base_uri": "https://localhost:8080/",
          "height": 111
        },
        "outputId": "9587a47c-2238-4bdf-fb2e-caf121a1608b"
      },
      "source": [
        "em = pd.read_csv(\"email.csv\")\n",
        "em.head()"
      ],
      "execution_count": 82,
      "outputs": [
        {
          "output_type": "execute_result",
          "data": {
            "text/html": [
              "<div>\n",
              "<style scoped>\n",
              "    .dataframe tbody tr th:only-of-type {\n",
              "        vertical-align: middle;\n",
              "    }\n",
              "\n",
              "    .dataframe tbody tr th {\n",
              "        vertical-align: top;\n",
              "    }\n",
              "\n",
              "    .dataframe thead th {\n",
              "        text-align: right;\n",
              "    }\n",
              "</style>\n",
              "<table border=\"1\" class=\"dataframe\">\n",
              "  <thead>\n",
              "    <tr style=\"text-align: right;\">\n",
              "      <th></th>\n",
              "      <th>email</th>\n",
              "    </tr>\n",
              "  </thead>\n",
              "  <tbody>\n",
              "    <tr>\n",
              "      <th>0</th>\n",
              "      <td>doldroyd@luminate.ai</td>\n",
              "    </tr>\n",
              "    <tr>\n",
              "      <th>1</th>\n",
              "      <td>roxane@luminate.ai</td>\n",
              "    </tr>\n",
              "  </tbody>\n",
              "</table>\n",
              "</div>"
            ],
            "text/plain": [
              "                  email\n",
              "0  doldroyd@luminate.ai\n",
              "1    roxane@luminate.ai"
            ]
          },
          "metadata": {
            "tags": []
          },
          "execution_count": 82
        }
      ]
    },
    {
      "cell_type": "markdown",
      "metadata": {
        "id": "00LXozE4C02f",
        "colab_type": "text"
      },
      "source": [
        "Task 3:  Check and fetch mail number from the email body section if any present and store it in\n",
        "another csv."
      ]
    },
    {
      "cell_type": "markdown",
      "metadata": {
        "id": "rtR5WjucDeWv",
        "colab_type": "text"
      },
      "source": [
        "Creating a csv with column name phone and after checking it will append the answers in new csv."
      ]
    },
    {
      "cell_type": "code",
      "metadata": {
        "id": "D3b3sdAdAHiZ",
        "colab_type": "code",
        "colab": {}
      },
      "source": [
        "import csv\n",
        "pho = [['Phone1']]\n",
        "with open('phone.csv','a') as csvFile:\n",
        "    writer = csv.writer(csvFile)\n",
        "    writer.writerows(pho)"
      ],
      "execution_count": 0,
      "outputs": []
    },
    {
      "cell_type": "code",
      "metadata": {
        "id": "zQvRKP3_AOhy",
        "colab_type": "code",
        "colab": {
          "base_uri": "https://localhost:8080/",
          "height": 49
        },
        "outputId": "a5c8ee81-f00d-41fd-ebf9-397bcccdd4c9"
      },
      "source": [
        "pb = pd.read_csv(\"phone.csv\")\n",
        "pb.head()"
      ],
      "execution_count": 75,
      "outputs": [
        {
          "output_type": "execute_result",
          "data": {
            "text/html": [
              "<div>\n",
              "<style scoped>\n",
              "    .dataframe tbody tr th:only-of-type {\n",
              "        vertical-align: middle;\n",
              "    }\n",
              "\n",
              "    .dataframe tbody tr th {\n",
              "        vertical-align: top;\n",
              "    }\n",
              "\n",
              "    .dataframe thead th {\n",
              "        text-align: right;\n",
              "    }\n",
              "</style>\n",
              "<table border=\"1\" class=\"dataframe\">\n",
              "  <thead>\n",
              "    <tr style=\"text-align: right;\">\n",
              "      <th></th>\n",
              "      <th>Phone1</th>\n",
              "    </tr>\n",
              "  </thead>\n",
              "  <tbody>\n",
              "  </tbody>\n",
              "</table>\n",
              "</div>"
            ],
            "text/plain": [
              "Empty DataFrame\n",
              "Columns: [Phone1]\n",
              "Index: []"
            ]
          },
          "metadata": {
            "tags": []
          },
          "execution_count": 75
        }
      ]
    },
    {
      "cell_type": "code",
      "metadata": {
        "id": "zo2AzAq-_ScZ",
        "colab_type": "code",
        "colab": {}
      },
      "source": [
        "def check_phone(phone):\n",
        "  pb = pd.read_csv(\"phone.csv\")\n",
        "  for i in data.index:\n",
        "    phone1 = data.get_value(i,'phone1')\n",
        "    if phone == phone1:\n",
        "      row=[phone]\n",
        "      with open('phone.csv','a') as csvFile:\n",
        "        writer = csv.writer(csvFile)\n",
        "        writer.writerow(row)"
      ],
      "execution_count": 0,
      "outputs": []
    },
    {
      "cell_type": "code",
      "metadata": {
        "id": "5qK89iV1AWCn",
        "colab_type": "code",
        "colab": {
          "base_uri": "https://localhost:8080/",
          "height": 71
        },
        "outputId": "ed0b9bf6-5109-4f6b-be68-47ea04b9932d"
      },
      "source": [
        "check_phone(\"715-662-6764\")"
      ],
      "execution_count": 77,
      "outputs": [
        {
          "output_type": "stream",
          "text": [
            "/usr/local/lib/python3.6/dist-packages/ipykernel_launcher.py:4: FutureWarning: get_value is deprecated and will be removed in a future release. Please use .at[] or .iat[] accessors instead\n",
            "  after removing the cwd from sys.path.\n"
          ],
          "name": "stderr"
        }
      ]
    },
    {
      "cell_type": "code",
      "metadata": {
        "id": "YB2J1XfNAal5",
        "colab_type": "code",
        "colab": {
          "base_uri": "https://localhost:8080/",
          "height": 80
        },
        "outputId": "4ab16dfc-b3f2-4f62-932a-1e6bc7f06b7f"
      },
      "source": [
        "pb = pd.read_csv(\"phone.csv\")\n",
        "pb.head()"
      ],
      "execution_count": 78,
      "outputs": [
        {
          "output_type": "execute_result",
          "data": {
            "text/html": [
              "<div>\n",
              "<style scoped>\n",
              "    .dataframe tbody tr th:only-of-type {\n",
              "        vertical-align: middle;\n",
              "    }\n",
              "\n",
              "    .dataframe tbody tr th {\n",
              "        vertical-align: top;\n",
              "    }\n",
              "\n",
              "    .dataframe thead th {\n",
              "        text-align: right;\n",
              "    }\n",
              "</style>\n",
              "<table border=\"1\" class=\"dataframe\">\n",
              "  <thead>\n",
              "    <tr style=\"text-align: right;\">\n",
              "      <th></th>\n",
              "      <th>Phone1</th>\n",
              "    </tr>\n",
              "  </thead>\n",
              "  <tbody>\n",
              "    <tr>\n",
              "      <th>0</th>\n",
              "      <td>715-662-6764</td>\n",
              "    </tr>\n",
              "  </tbody>\n",
              "</table>\n",
              "</div>"
            ],
            "text/plain": [
              "         Phone1\n",
              "0  715-662-6764"
            ]
          },
          "metadata": {
            "tags": []
          },
          "execution_count": 78
        }
      ]
    },
    {
      "cell_type": "code",
      "metadata": {
        "id": "dZHLvLFKAcRR",
        "colab_type": "code",
        "colab": {
          "base_uri": "https://localhost:8080/",
          "height": 71
        },
        "outputId": "5da4d5e5-f8d4-4a8c-b96e-c58f005ca321"
      },
      "source": [
        "check_phone(\"617-399-5124\")"
      ],
      "execution_count": 79,
      "outputs": [
        {
          "output_type": "stream",
          "text": [
            "/usr/local/lib/python3.6/dist-packages/ipykernel_launcher.py:4: FutureWarning: get_value is deprecated and will be removed in a future release. Please use .at[] or .iat[] accessors instead\n",
            "  after removing the cwd from sys.path.\n"
          ],
          "name": "stderr"
        }
      ]
    },
    {
      "cell_type": "code",
      "metadata": {
        "id": "dgPsNVwZCl7F",
        "colab_type": "code",
        "colab": {
          "base_uri": "https://localhost:8080/",
          "height": 111
        },
        "outputId": "4468e74f-5c83-4a15-eea3-18d27501900e"
      },
      "source": [
        "pb = pd.read_csv(\"phone.csv\")\n",
        "pb.head()"
      ],
      "execution_count": 80,
      "outputs": [
        {
          "output_type": "execute_result",
          "data": {
            "text/html": [
              "<div>\n",
              "<style scoped>\n",
              "    .dataframe tbody tr th:only-of-type {\n",
              "        vertical-align: middle;\n",
              "    }\n",
              "\n",
              "    .dataframe tbody tr th {\n",
              "        vertical-align: top;\n",
              "    }\n",
              "\n",
              "    .dataframe thead th {\n",
              "        text-align: right;\n",
              "    }\n",
              "</style>\n",
              "<table border=\"1\" class=\"dataframe\">\n",
              "  <thead>\n",
              "    <tr style=\"text-align: right;\">\n",
              "      <th></th>\n",
              "      <th>Phone1</th>\n",
              "    </tr>\n",
              "  </thead>\n",
              "  <tbody>\n",
              "    <tr>\n",
              "      <th>0</th>\n",
              "      <td>715-662-6764</td>\n",
              "    </tr>\n",
              "    <tr>\n",
              "      <th>1</th>\n",
              "      <td>617-399-5124</td>\n",
              "    </tr>\n",
              "  </tbody>\n",
              "</table>\n",
              "</div>"
            ],
            "text/plain": [
              "         Phone1\n",
              "0  715-662-6764\n",
              "1  617-399-5124"
            ]
          },
          "metadata": {
            "tags": []
          },
          "execution_count": 80
        }
      ]
    }
  ]
}